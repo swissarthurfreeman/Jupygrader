{
 "cells": [
  {
   "cell_type": "code",
   "execution_count": 1,
   "id": "3e1f1efd-2328-4863-8ca2-abc3ead19691",
   "metadata": {
    "nbgrader": {
     "grade": true,
     "grade_id": "cell-4cb12024ca3ad2c2",
     "locked": false,
     "points": 1,
     "schema_version": 3,
     "solution": true,
     "task": false
    },
    "tags": []
   },
   "outputs": [
    {
     "data": {
      "text/plain": [
       "defined \u001b[32mfunction\u001b[39m \u001b[36madd\u001b[39m"
      ]
     },
     "execution_count": 1,
     "metadata": {},
     "output_type": "execute_result"
    }
   ],
   "source": [
    "def add(x: Int, y: Int): Int = {\n",
    "    // BEGIN SOLUTION\n",
    "    x + y\n",
    "    // END SOLUTION\n",
    "}"
   ]
  },
  {
   "cell_type": "code",
   "execution_count": 2,
   "id": "d4c1af50-79c7-451b-878e-127840859245",
   "metadata": {
    "nbgrader": {
     "grade": true,
     "grade_id": "cell-e580d9d8cfd4f99e",
     "locked": true,
     "points": 1,
     "schema_version": 3,
     "solution": false,
     "task": false
    },
    "tags": []
   },
   "outputs": [],
   "source": [
    "assert(add(4, 5) == 9)\n",
    "assert(add(4, -1) == 3)\n",
    "// BEGIN HIDDEN TESTS\n",
    "assert(add(9, 10) == 19)\n",
    "// END HIDDEN TESTS"
   ]
  },
  {
   "cell_type": "code",
   "execution_count": null,
   "id": "a317351e-987e-4620-9273-3df671a7e138",
   "metadata": {},
   "outputs": [],
   "source": []
  }
 ],
 "metadata": {
  "kernelspec": {
   "display_name": "Scala 2.12",
   "language": "scala",
   "name": "scala212"
  },
  "language_info": {
   "codemirror_mode": "text/x-scala",
   "file_extension": ".sc",
   "mimetype": "text/x-scala",
   "name": "scala",
   "nbconvert_exporter": "script",
   "version": "2.12.18"
  }
 },
 "nbformat": 4,
 "nbformat_minor": 5
}
